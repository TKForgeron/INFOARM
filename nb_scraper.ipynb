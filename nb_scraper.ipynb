{
 "cells": [
  {
   "cell_type": "code",
   "execution_count": 2,
   "metadata": {},
   "outputs": [],
   "source": [
    "import json\n",
    "import requests\n",
    "import pandas as pd\n",
    "import scraper as scr\n",
    "from typing import List, Tuple\n",
    "from bs4 import BeautifulSoup\n",
    "import random\n",
    "from urllib.parse import urlparse\n",
    " "
   ]
  },
  {
   "cell_type": "code",
   "execution_count": 3,
   "metadata": {},
   "outputs": [],
   "source": [
    "kubernetes_repo = scr.Repository(repo_link = \"https://github.com/kubernetes/kubernetes\", username=\"\", token = \"\")"
   ]
  },
  {
   "cell_type": "code",
   "execution_count": 12,
   "metadata": {},
   "outputs": [],
   "source": [
    "def GET_UA():\n",
    "    uastrings = [\"Mozilla/5.0 (Windows NT 6.1; WOW64) AppleWebKit/537.36 (KHTML, like Gecko) Chrome/38.0.2125.111 Safari/537.36\",\\\n",
    "                \"Mozilla/5.0 (Windows NT 6.1; WOW64) AppleWebKit/537.36 (KHTML, like Gecko) Chrome/28.0.1500.72 Safari/537.36\",\\\n",
    "                \"Mozilla/5.0 (Macintosh; Intel Mac OS X 10_10) AppleWebKit/600.1.25 (KHTML, like Gecko) Version/8.0 Safari/600.1.25\",\\\n",
    "                \"Mozilla/5.0 (Windows NT 6.1; WOW64; rv:33.0) Gecko/20100101 Firefox/33.0\",\\\n",
    "                \"Mozilla/5.0 (Windows NT 6.3; WOW64) AppleWebKit/537.36 (KHTML, like Gecko) Chrome/38.0.2125.111 Safari/537.36\",\\\n",
    "                \"Mozilla/5.0 (Macintosh; Intel Mac OS X 10_10_0) AppleWebKit/537.36 (KHTML, like Gecko) Chrome/38.0.2125.111 Safari/537.36\",\\\n",
    "                \"Mozilla/5.0 (Macintosh; Intel Mac OS X 10_9_5) AppleWebKit/600.1.17 (KHTML, like Gecko) Version/7.1 Safari/537.85.10\",\\\n",
    "                \"Mozilla/5.0 (Windows NT 6.1; WOW64; Trident/7.0; rv:11.0) like Gecko\",\\\n",
    "                \"Mozilla/5.0 (Windows NT 6.3; WOW64; rv:33.0) Gecko/20100101 Firefox/33.0\",\\\n",
    "                \"Mozilla/5.0 (Windows NT 6.1; WOW64) AppleWebKit/537.36 (KHTML, like Gecko) Chrome/38.0.2125.104 Safari/537.36\"\\\n",
    "                ]\n",
    " \n",
    "    return random.choice(uastrings)\n",
    "\n",
    "def parse_url(url):\n",
    " \n",
    "    headers = {'User-Agent': GET_UA(),\n",
    "    \"Accept\": \"application/json\"}\n",
    "    content = None\n",
    "    res = None\n",
    " \n",
    "    try:\n",
    "        response = requests.get(url, headers=headers)\n",
    "        ct = response.headers['Content-Type'].lower().strip()\n",
    " \n",
    "        if 'text/html' in ct:\n",
    "            content = response.content\n",
    "            soup = BeautifulSoup(content, \"lxml\")\n",
    "            res = response\n",
    "        else:\n",
    "            content = response.content\n",
    "            soup = None\n",
    " \n",
    "    except Exception as e:\n",
    "        print('Error:', str(e))\n",
    " \n",
    "    return content, soup, ct, res"
   ]
  },
  {
   "cell_type": "code",
   "execution_count": 16,
   "metadata": {},
   "outputs": [
    {
     "name": "stdout",
     "output_type": "stream",
     "text": [
      "b'[\\n  {\\n    \"name\": \"BuildStatusBadge\",\\n    \"commit\": {\\n      \"sha\": \"4a8a49d30a867cf2a085739883264185682d2f21\",\\n      \"url\": \"https://api.github.com/repos/dib0/NHapiTools/commits/4a8a49d30a867cf2a085739883264185682d2f21\"\\n    },\\n    \"protected\": false\\n  },\\n  {\\n    \"name\": \"dependency-update\",\\n    \"commit\": {\\n      \"sha\": \"7772fbfc3c2c9d6b52b2d7ae2dfb26e34e29f31e\",\\n      \"url\": \"https://api.github.com/repos/dib0/NHapiTools/commits/7772fbfc3c2c9d6b52b2d7ae2dfb26e34e29f31e\"\\n    },\\n    \"protected\": false\\n  },\\n  {\\n    \"name\": \"master\",\\n    \"commit\": {\\n      \"sha\": \"296615b29c6f62f2575ddfc65d592d2ccae4cd9c\",\\n      \"url\": \"https://api.github.com/repos/dib0/NHapiTools/commits/296615b29c6f62f2575ddfc65d592d2ccae4cd9c\"\\n    },\\n    \"protected\": false\\n  }\\n]\\n'\n"
     ]
    }
   ],
   "source": [
    "\n",
    "endpoint = \"https://github.com/dib0/NHapiTools/graphs/code-frequency-data\"\n",
    "content, soup, ct, res  = parse_url(\"https://api.github.com/repos/dib0/NHapiTools/branches\")\n",
    "json_content = json.loads(content)"
   ]
  },
  {
   "cell_type": "code",
   "execution_count": 3,
   "metadata": {},
   "outputs": [
    {
     "name": "stdout",
     "output_type": "stream",
     "text": [
      "added: [14, 320, 36, 14, 9, 36, 1, 73, 257, 14, 1, 2, 34, 2, 34, 81, 14, 49, 2, 30, 1, 4, 81, 35, 94, 230, 26, 26, 3, 1, 4, 257, 9, 182, 3, 34, 12, 3, 6, 7, 0, 3, 340, 17, 1, 1, 0, 1, 17, 35, 340, 7, 3, 154, 31, 1, 181, 11, 11, 4, 2, 49, 1, 1, 91, 223, 193, 41, 10, 91, 1, 1, 7, 0, 10, 93, 6, 6, 5, 6, 1, 45, 9, 37, 7, 9, 7, 25, 57, 18, 40, 80, 72, 40, 25, 449, 3, 299, 13, 14]\n",
      "deleted: [10, 23, 32, 10, 0, 32, 1, 18, 128, 11, 1, 2, 15, 69, 15, 41, 11, 15, 69, 59, 1, 2, 41, 0, 1, 19, 7, 7, 11, 1, 2, 128, 29, 5, 3, 142, 2, 3, 6, 1, 8, 0, 202, 0, 0, 1, 8, 1, 0, 0, 202, 1, 5, 62, 137, 1, 86, 8, 8, 4, 9, 15, 0, 0, 280, 137, 100, 9, 35, 280, 1, 1, 1, 7, 35, 0, 1, 1, 1, 1, 0, 122, 3, 8, 1, 29, 1, 11, 3, 18, 8, 80, 41, 8, 11, 86, 13, 236, 2, 74]\n",
      "mean_locpc: 47.75\n"
     ]
    }
   ],
   "source": [
    "locpc = kubernetes_repo.get_locpc()\n",
    "print(f\"mean_locpc: {locpc}\")"
   ]
  },
  {
   "cell_type": "code",
   "execution_count": null,
   "metadata": {},
   "outputs": [],
   "source": []
  }
 ],
 "metadata": {
  "interpreter": {
   "hash": "cfd31f90ac8b06a19ff172d347ef90b9b4b7fe7c0b3f7cbc21b17db8fa30192e"
  },
  "kernelspec": {
   "display_name": "Python 3.9.6 64-bit ('venv': venv)",
   "language": "python",
   "name": "python3"
  },
  "language_info": {
   "codemirror_mode": {
    "name": "ipython",
    "version": 3
   },
   "file_extension": ".py",
   "mimetype": "text/x-python",
   "name": "python",
   "nbconvert_exporter": "python",
   "pygments_lexer": "ipython3",
   "version": "3.9.6"
  },
  "orig_nbformat": 4
 },
 "nbformat": 4,
 "nbformat_minor": 2
}
